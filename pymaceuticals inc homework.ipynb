{
 "cells": [
  {
   "cell_type": "code",
   "execution_count": 85,
   "id": "2940f48d",
   "metadata": {},
   "outputs": [],
   "source": [
    "## Pymaceuticals Inc."
   ]
  },
  {
   "cell_type": "code",
   "execution_count": 86,
   "id": "835d7644",
   "metadata": {
    "scrolled": true
   },
   "outputs": [],
   "source": [
    "# Dependencies\n",
    "import pandas as pd\n",
    "import numpy as np\n",
    "import matplotlib.pyplot as plt\n",
    "from scipy.stats import sem"
   ]
  },
  {
   "cell_type": "code",
   "execution_count": 87,
   "id": "1675f1ab",
   "metadata": {},
   "outputs": [],
   "source": [
    "# Store filepaths in variables\n",
    "Study_results =\"C://Users//Angiescomputer//Desktop//-Pymaceuticals-Inc-homework//Study_results.csv\"\n",
    "Mouse_metadata =\"C://Users//Angiescomputer//Desktop//-Pymaceuticals-Inc-homework//Mouse_metadata.csv\"\n"
   ]
  },
  {
   "cell_type": "code",
   "execution_count": 88,
   "id": "7d2ce189",
   "metadata": {},
   "outputs": [],
   "source": [
    "# Read our data files with the pandas library\n",
    "Study_results_df = pd.read_csv(\"C://Users//Angiescomputer//Desktop//-Pymaceuticals-Inc-homework//Study_results.csv\")\n",
    "Mouse_metadata_df = pd.read_csv(\"C://Users//Angiescomputer//Desktop//-Pymaceuticals-Inc-homework//Mouse_metadata.csv\")"
   ]
  },
  {
   "cell_type": "code",
   "execution_count": 89,
   "id": "cad8045f",
   "metadata": {},
   "outputs": [
    {
     "data": {
      "text/html": [
       "<div>\n",
       "<style scoped>\n",
       "    .dataframe tbody tr th:only-of-type {\n",
       "        vertical-align: middle;\n",
       "    }\n",
       "\n",
       "    .dataframe tbody tr th {\n",
       "        vertical-align: top;\n",
       "    }\n",
       "\n",
       "    .dataframe thead th {\n",
       "        text-align: right;\n",
       "    }\n",
       "</style>\n",
       "<table border=\"1\" class=\"dataframe\">\n",
       "  <thead>\n",
       "    <tr style=\"text-align: right;\">\n",
       "      <th></th>\n",
       "      <th>Mouse ID</th>\n",
       "      <th>Timepoint</th>\n",
       "      <th>Tumor Volume (mm3)</th>\n",
       "      <th>Metastatic Sites</th>\n",
       "    </tr>\n",
       "  </thead>\n",
       "  <tbody>\n",
       "    <tr>\n",
       "      <th>0</th>\n",
       "      <td>b128</td>\n",
       "      <td>0</td>\n",
       "      <td>45.0</td>\n",
       "      <td>0</td>\n",
       "    </tr>\n",
       "    <tr>\n",
       "      <th>1</th>\n",
       "      <td>f932</td>\n",
       "      <td>0</td>\n",
       "      <td>45.0</td>\n",
       "      <td>0</td>\n",
       "    </tr>\n",
       "    <tr>\n",
       "      <th>2</th>\n",
       "      <td>g107</td>\n",
       "      <td>0</td>\n",
       "      <td>45.0</td>\n",
       "      <td>0</td>\n",
       "    </tr>\n",
       "    <tr>\n",
       "      <th>3</th>\n",
       "      <td>a457</td>\n",
       "      <td>0</td>\n",
       "      <td>45.0</td>\n",
       "      <td>0</td>\n",
       "    </tr>\n",
       "    <tr>\n",
       "      <th>4</th>\n",
       "      <td>c819</td>\n",
       "      <td>0</td>\n",
       "      <td>45.0</td>\n",
       "      <td>0</td>\n",
       "    </tr>\n",
       "  </tbody>\n",
       "</table>\n",
       "</div>"
      ],
      "text/plain": [
       "  Mouse ID  Timepoint  Tumor Volume (mm3)  Metastatic Sites\n",
       "0     b128          0                45.0                 0\n",
       "1     f932          0                45.0                 0\n",
       "2     g107          0                45.0                 0\n",
       "3     a457          0                45.0                 0\n",
       "4     c819          0                45.0                 0"
      ]
     },
     "execution_count": 89,
     "metadata": {},
     "output_type": "execute_result"
    }
   ],
   "source": [
    "Study_results_df.head()"
   ]
  },
  {
   "cell_type": "code",
   "execution_count": 90,
   "id": "1611d4af",
   "metadata": {},
   "outputs": [
    {
     "data": {
      "text/html": [
       "<div>\n",
       "<style scoped>\n",
       "    .dataframe tbody tr th:only-of-type {\n",
       "        vertical-align: middle;\n",
       "    }\n",
       "\n",
       "    .dataframe tbody tr th {\n",
       "        vertical-align: top;\n",
       "    }\n",
       "\n",
       "    .dataframe thead th {\n",
       "        text-align: right;\n",
       "    }\n",
       "</style>\n",
       "<table border=\"1\" class=\"dataframe\">\n",
       "  <thead>\n",
       "    <tr style=\"text-align: right;\">\n",
       "      <th></th>\n",
       "      <th>Mouse ID</th>\n",
       "      <th>Drug Regimen</th>\n",
       "      <th>Sex</th>\n",
       "      <th>Age_months</th>\n",
       "      <th>Weight (g)</th>\n",
       "    </tr>\n",
       "  </thead>\n",
       "  <tbody>\n",
       "    <tr>\n",
       "      <th>0</th>\n",
       "      <td>k403</td>\n",
       "      <td>Ramicane</td>\n",
       "      <td>Male</td>\n",
       "      <td>21</td>\n",
       "      <td>16</td>\n",
       "    </tr>\n",
       "    <tr>\n",
       "      <th>1</th>\n",
       "      <td>s185</td>\n",
       "      <td>Capomulin</td>\n",
       "      <td>Female</td>\n",
       "      <td>3</td>\n",
       "      <td>17</td>\n",
       "    </tr>\n",
       "    <tr>\n",
       "      <th>2</th>\n",
       "      <td>x401</td>\n",
       "      <td>Capomulin</td>\n",
       "      <td>Female</td>\n",
       "      <td>16</td>\n",
       "      <td>15</td>\n",
       "    </tr>\n",
       "    <tr>\n",
       "      <th>3</th>\n",
       "      <td>m601</td>\n",
       "      <td>Capomulin</td>\n",
       "      <td>Male</td>\n",
       "      <td>22</td>\n",
       "      <td>17</td>\n",
       "    </tr>\n",
       "    <tr>\n",
       "      <th>4</th>\n",
       "      <td>g791</td>\n",
       "      <td>Ramicane</td>\n",
       "      <td>Male</td>\n",
       "      <td>11</td>\n",
       "      <td>16</td>\n",
       "    </tr>\n",
       "  </tbody>\n",
       "</table>\n",
       "</div>"
      ],
      "text/plain": [
       "  Mouse ID Drug Regimen     Sex  Age_months  Weight (g)\n",
       "0     k403     Ramicane    Male          21          16\n",
       "1     s185    Capomulin  Female           3          17\n",
       "2     x401    Capomulin  Female          16          15\n",
       "3     m601    Capomulin    Male          22          17\n",
       "4     g791     Ramicane    Male          11          16"
      ]
     },
     "execution_count": 90,
     "metadata": {},
     "output_type": "execute_result"
    }
   ],
   "source": [
    "Mouse_metadata_df.head()"
   ]
  },
  {
   "cell_type": "code",
   "execution_count": 91,
   "id": "d0c1312a",
   "metadata": {},
   "outputs": [
    {
     "data": {
      "text/html": [
       "<div>\n",
       "<style scoped>\n",
       "    .dataframe tbody tr th:only-of-type {\n",
       "        vertical-align: middle;\n",
       "    }\n",
       "\n",
       "    .dataframe tbody tr th {\n",
       "        vertical-align: top;\n",
       "    }\n",
       "\n",
       "    .dataframe thead th {\n",
       "        text-align: right;\n",
       "    }\n",
       "</style>\n",
       "<table border=\"1\" class=\"dataframe\">\n",
       "  <thead>\n",
       "    <tr style=\"text-align: right;\">\n",
       "      <th></th>\n",
       "      <th>Mouse ID</th>\n",
       "      <th>Timepoint</th>\n",
       "      <th>Tumor Volume (mm3)</th>\n",
       "      <th>Metastatic Sites</th>\n",
       "      <th>Drug Regimen</th>\n",
       "      <th>Sex</th>\n",
       "      <th>Age_months</th>\n",
       "      <th>Weight (g)</th>\n",
       "    </tr>\n",
       "  </thead>\n",
       "  <tbody>\n",
       "    <tr>\n",
       "      <th>0</th>\n",
       "      <td>b128</td>\n",
       "      <td>0</td>\n",
       "      <td>45.000000</td>\n",
       "      <td>0</td>\n",
       "      <td>Capomulin</td>\n",
       "      <td>Female</td>\n",
       "      <td>9</td>\n",
       "      <td>22</td>\n",
       "    </tr>\n",
       "    <tr>\n",
       "      <th>1</th>\n",
       "      <td>b128</td>\n",
       "      <td>5</td>\n",
       "      <td>45.651331</td>\n",
       "      <td>0</td>\n",
       "      <td>Capomulin</td>\n",
       "      <td>Female</td>\n",
       "      <td>9</td>\n",
       "      <td>22</td>\n",
       "    </tr>\n",
       "    <tr>\n",
       "      <th>2</th>\n",
       "      <td>b128</td>\n",
       "      <td>10</td>\n",
       "      <td>43.270852</td>\n",
       "      <td>0</td>\n",
       "      <td>Capomulin</td>\n",
       "      <td>Female</td>\n",
       "      <td>9</td>\n",
       "      <td>22</td>\n",
       "    </tr>\n",
       "    <tr>\n",
       "      <th>3</th>\n",
       "      <td>b128</td>\n",
       "      <td>15</td>\n",
       "      <td>43.784893</td>\n",
       "      <td>0</td>\n",
       "      <td>Capomulin</td>\n",
       "      <td>Female</td>\n",
       "      <td>9</td>\n",
       "      <td>22</td>\n",
       "    </tr>\n",
       "    <tr>\n",
       "      <th>4</th>\n",
       "      <td>b128</td>\n",
       "      <td>20</td>\n",
       "      <td>42.731552</td>\n",
       "      <td>0</td>\n",
       "      <td>Capomulin</td>\n",
       "      <td>Female</td>\n",
       "      <td>9</td>\n",
       "      <td>22</td>\n",
       "    </tr>\n",
       "  </tbody>\n",
       "</table>\n",
       "</div>"
      ],
      "text/plain": [
       "  Mouse ID  Timepoint  Tumor Volume (mm3)  Metastatic Sites Drug Regimen  \\\n",
       "0     b128          0           45.000000                 0    Capomulin   \n",
       "1     b128          5           45.651331                 0    Capomulin   \n",
       "2     b128         10           43.270852                 0    Capomulin   \n",
       "3     b128         15           43.784893                 0    Capomulin   \n",
       "4     b128         20           42.731552                 0    Capomulin   \n",
       "\n",
       "      Sex  Age_months  Weight (g)  \n",
       "0  Female           9          22  \n",
       "1  Female           9          22  \n",
       "2  Female           9          22  \n",
       "3  Female           9          22  \n",
       "4  Female           9          22  "
      ]
     },
     "execution_count": 91,
     "metadata": {},
     "output_type": "execute_result"
    }
   ],
   "source": [
    "# Merge data on Mouse ID\n",
    "merged_df = pd.merge(Study_results_df, Mouse_metadata_df, on=('Mouse ID'))\n",
    "merged_df.head()"
   ]
  },
  {
   "cell_type": "code",
   "execution_count": 92,
   "id": "43d81d54",
   "metadata": {
    "scrolled": true
   },
   "outputs": [
    {
     "data": {
      "text/html": [
       "<div>\n",
       "<style scoped>\n",
       "    .dataframe tbody tr th:only-of-type {\n",
       "        vertical-align: middle;\n",
       "    }\n",
       "\n",
       "    .dataframe tbody tr th {\n",
       "        vertical-align: top;\n",
       "    }\n",
       "\n",
       "    .dataframe thead th {\n",
       "        text-align: right;\n",
       "    }\n",
       "</style>\n",
       "<table border=\"1\" class=\"dataframe\">\n",
       "  <thead>\n",
       "    <tr style=\"text-align: right;\">\n",
       "      <th></th>\n",
       "      <th>Drug Regimen</th>\n",
       "      <th>Timepoint</th>\n",
       "      <th>Tumor Volume (mm3)</th>\n",
       "    </tr>\n",
       "  </thead>\n",
       "  <tbody>\n",
       "    <tr>\n",
       "      <th>0</th>\n",
       "      <td>Capomulin</td>\n",
       "      <td>0</td>\n",
       "      <td>45.000000</td>\n",
       "    </tr>\n",
       "    <tr>\n",
       "      <th>1</th>\n",
       "      <td>Capomulin</td>\n",
       "      <td>5</td>\n",
       "      <td>45.651331</td>\n",
       "    </tr>\n",
       "    <tr>\n",
       "      <th>2</th>\n",
       "      <td>Capomulin</td>\n",
       "      <td>10</td>\n",
       "      <td>43.270852</td>\n",
       "    </tr>\n",
       "    <tr>\n",
       "      <th>3</th>\n",
       "      <td>Capomulin</td>\n",
       "      <td>15</td>\n",
       "      <td>43.784893</td>\n",
       "    </tr>\n",
       "    <tr>\n",
       "      <th>4</th>\n",
       "      <td>Capomulin</td>\n",
       "      <td>20</td>\n",
       "      <td>42.731552</td>\n",
       "    </tr>\n",
       "  </tbody>\n",
       "</table>\n",
       "</div>"
      ],
      "text/plain": [
       "  Drug Regimen  Timepoint  Tumor Volume (mm3)\n",
       "0    Capomulin          0           45.000000\n",
       "1    Capomulin          5           45.651331\n",
       "2    Capomulin         10           43.270852\n",
       "3    Capomulin         15           43.784893\n",
       "4    Capomulin         20           42.731552"
      ]
     },
     "execution_count": 92,
     "metadata": {},
     "output_type": "execute_result"
    }
   ],
   "source": [
    "# Group tumor_vol_df by 'Drug' and 'Timepoint'\n",
    "# Calculate mean and standard error of the mean (sem) for the 'Tumor Volume'\n",
    "tumor_vol_df = merged_df.loc[:,['Drug Regimen','Timepoint','Tumor Volume (mm3)']]\n",
    "tumor_vol_df.head()"
   ]
  },
  {
   "cell_type": "code",
   "execution_count": 93,
   "id": "a4c1ee9f",
   "metadata": {},
   "outputs": [
    {
     "data": {
      "text/html": [
       "<div>\n",
       "<style scoped>\n",
       "    .dataframe tbody tr th:only-of-type {\n",
       "        vertical-align: middle;\n",
       "    }\n",
       "\n",
       "    .dataframe tbody tr th {\n",
       "        vertical-align: top;\n",
       "    }\n",
       "\n",
       "    .dataframe thead tr th {\n",
       "        text-align: left;\n",
       "    }\n",
       "\n",
       "    .dataframe thead tr:last-of-type th {\n",
       "        text-align: right;\n",
       "    }\n",
       "</style>\n",
       "<table border=\"1\" class=\"dataframe\">\n",
       "  <thead>\n",
       "    <tr>\n",
       "      <th></th>\n",
       "      <th></th>\n",
       "      <th colspan=\"2\" halign=\"left\">Tumor Volume (mm3)</th>\n",
       "    </tr>\n",
       "    <tr>\n",
       "      <th></th>\n",
       "      <th></th>\n",
       "      <th>mean</th>\n",
       "      <th>sem</th>\n",
       "    </tr>\n",
       "    <tr>\n",
       "      <th>Drug Regimen</th>\n",
       "      <th>Timepoint</th>\n",
       "      <th></th>\n",
       "      <th></th>\n",
       "    </tr>\n",
       "  </thead>\n",
       "  <tbody>\n",
       "    <tr>\n",
       "      <th rowspan=\"5\" valign=\"top\">Capomulin</th>\n",
       "      <th>0</th>\n",
       "      <td>45.000000</td>\n",
       "      <td>0.000000</td>\n",
       "    </tr>\n",
       "    <tr>\n",
       "      <th>5</th>\n",
       "      <td>44.266086</td>\n",
       "      <td>0.448593</td>\n",
       "    </tr>\n",
       "    <tr>\n",
       "      <th>10</th>\n",
       "      <td>43.084291</td>\n",
       "      <td>0.702684</td>\n",
       "    </tr>\n",
       "    <tr>\n",
       "      <th>15</th>\n",
       "      <td>42.064317</td>\n",
       "      <td>0.838617</td>\n",
       "    </tr>\n",
       "    <tr>\n",
       "      <th>20</th>\n",
       "      <td>40.716325</td>\n",
       "      <td>0.909731</td>\n",
       "    </tr>\n",
       "  </tbody>\n",
       "</table>\n",
       "</div>"
      ],
      "text/plain": [
       "                       Tumor Volume (mm3)          \n",
       "                                     mean       sem\n",
       "Drug Regimen Timepoint                             \n",
       "Capomulin    0                  45.000000  0.000000\n",
       "             5                  44.266086  0.448593\n",
       "             10                 43.084291  0.702684\n",
       "             15                 42.064317  0.838617\n",
       "             20                 40.716325  0.909731"
      ]
     },
     "execution_count": 93,
     "metadata": {},
     "output_type": "execute_result"
    }
   ],
   "source": [
    "# Group tumor_vol_df by 'Drug' and 'Timepoint'\n",
    "# Calculate mean and standard error of the mean (sem) for the 'Tumor Volume'\n",
    "mean_sem_tv = tumor_vol_df.groupby(['Drug Regimen', 'Timepoint']).agg({\"Tumor Volume (mm3)\" :[\"mean\", \"sem\"]})\n",
    "mean_sem_tv.head()"
   ]
  },
  {
   "cell_type": "code",
   "execution_count": 94,
   "id": "7d3320f3",
   "metadata": {
    "scrolled": true
   },
   "outputs": [],
   "source": [
    "# Create lists of the tumor volume means for each of the four drugs being compared\n",
    "cap_tvmean_list = mean_sem_tv.loc['Capomulin'].loc[:, 'Tumor Volume (mm3)'].loc[:,'mean'].tolist()\n",
    "inf_tvmean_list = mean_sem_tv.loc['Infubinol'].loc[:, 'Tumor Volume (mm3)'].loc[:,'mean'].tolist()\n",
    "ram_tvmean_list = mean_sem_tv.loc['Ramicane'].loc[:, 'Tumor Volume (mm3)'].loc[:,'mean'].tolist()\n",
    "cef_tvmean_list = mean_sem_tv.loc['Ceftamin'].loc[:, 'Tumor Volume (mm3)'].loc[:,'mean'].tolist()"
   ]
  },
  {
   "cell_type": "code",
   "execution_count": 95,
   "id": "cc36fb94",
   "metadata": {},
   "outputs": [],
   "source": [
    "# Create lists of the tumor volume sems for each of the four drugs being compared\n",
    "cap_tvsem_list = mean_sem_tv.loc['Capomulin'].loc[:, 'Tumor Volume (mm3)'].loc[:,'sem'].tolist()\n",
    "inf_tvsem_list = mean_sem_tv.loc['Infubinol'].loc[:, 'Tumor Volume (mm3)'].loc[:,'sem'].tolist()\n",
    "ram_tvsem_list = mean_sem_tv.loc['Ramicane'].loc[:, 'Tumor Volume (mm3)'].loc[:,'sem'].tolist()\n",
    "cef_tvsem_list = mean_sem_tv.loc['Ceftamin'].loc[:, 'Tumor Volume (mm3)'].loc[:,'sem'].tolist()"
   ]
  },
  {
   "cell_type": "code",
   "execution_count": 96,
   "id": "7cfea342",
   "metadata": {},
   "outputs": [
    {
     "data": {
      "image/png": "[encoded data removed]",
      "text/plain": [
       "<Figure size 432x288 with 1 Axes>"
      ]
     },
     "metadata": {
      "needs_background": "light"
     },
     "output_type": "display_data"
    }
   ],
   "source": [
    "# Scatter plot showing how tumor volume changes over time for each treatment\n",
    "\n",
    "ax = plt.subplot(111)\n",
    "\n",
    "# Set the x axis from 0 to 45 in increments of 5\n",
    "x_axis = np.arange(0, 50, 5)\n",
    "\n",
    "# Set the plot title and axes titles\n",
    "plt.title(\"Tumor Response to Treatment\")\n",
    "plt.xlabel(\"Time (days)\")\n",
    "plt.ylabel(\"Tumor Volume (mm3)\")\n",
    "\n",
    "# Plot the 'mean' list vs. the established x axis with error \n",
    "ax.errorbar(x_axis, cap_tvmean_list, yerr=cap_tvsem_list, fmt=\"olive\",\n",
    "                   label=\"Capomulin\")\n",
    "ax.errorbar(x_axis, inf_tvmean_list, yerr=inf_tvsem_list, fmt=\"gray\",\n",
    "                   label=\"Infubinol\")\n",
    "ax.errorbar(x_axis, ket_tvmean_list, yerr=ket_tvsem_list, fmt=\"brown\",\n",
    "                   label=\"Ramicane\")\n",
    "ax.errorbar(x_axis, plc_tvmean_list, yerr=plc_tvsem_list, fmt=\"blue\",\n",
    "                   label=\"Ceftamin\")\n",
    "\n",
    "# Add the legend and gridlines\n",
    "ax.legend(loc=2)\n",
    "\n",
    "tick_locations = [value for value in x_axis]\n",
    "ax.set_xticks(tick_locations, minor=False)\n",
    "ax.grid('on', which='major', axis='both', linestyle='dotted', linewidth=0.5)\n",
    "\n",
    "plt.xlim(0, max(x_axis)+2)\n",
    "        \n",
    "# Show the resulting scatter plot\n",
    "plt.show()"
   ]
  },
  {
   "cell_type": "code",
   "execution_count": 97,
   "id": "7498f932",
   "metadata": {},
   "outputs": [
    {
     "data": {
      "text/html": [
       "<div>\n",
       "<style scoped>\n",
       "    .dataframe tbody tr th:only-of-type {\n",
       "        vertical-align: middle;\n",
       "    }\n",
       "\n",
       "    .dataframe tbody tr th {\n",
       "        vertical-align: top;\n",
       "    }\n",
       "\n",
       "    .dataframe thead th {\n",
       "        text-align: right;\n",
       "    }\n",
       "</style>\n",
       "<table border=\"1\" class=\"dataframe\">\n",
       "  <thead>\n",
       "    <tr style=\"text-align: right;\">\n",
       "      <th></th>\n",
       "      <th>Drug Regimen</th>\n",
       "      <th>Timepoint</th>\n",
       "      <th>Metastatic Sites</th>\n",
       "    </tr>\n",
       "  </thead>\n",
       "  <tbody>\n",
       "    <tr>\n",
       "      <th>0</th>\n",
       "      <td>Capomulin</td>\n",
       "      <td>0</td>\n",
       "      <td>0</td>\n",
       "    </tr>\n",
       "    <tr>\n",
       "      <th>1</th>\n",
       "      <td>Capomulin</td>\n",
       "      <td>5</td>\n",
       "      <td>0</td>\n",
       "    </tr>\n",
       "    <tr>\n",
       "      <th>2</th>\n",
       "      <td>Capomulin</td>\n",
       "      <td>10</td>\n",
       "      <td>0</td>\n",
       "    </tr>\n",
       "    <tr>\n",
       "      <th>3</th>\n",
       "      <td>Capomulin</td>\n",
       "      <td>15</td>\n",
       "      <td>0</td>\n",
       "    </tr>\n",
       "    <tr>\n",
       "      <th>4</th>\n",
       "      <td>Capomulin</td>\n",
       "      <td>20</td>\n",
       "      <td>0</td>\n",
       "    </tr>\n",
       "  </tbody>\n",
       "</table>\n",
       "</div>"
      ],
      "text/plain": [
       "  Drug Regimen  Timepoint  Metastatic Sites\n",
       "0    Capomulin          0                 0\n",
       "1    Capomulin          5                 0\n",
       "2    Capomulin         10                 0\n",
       "3    Capomulin         15                 0\n",
       "4    Capomulin         20                 0"
      ]
     },
     "execution_count": 97,
     "metadata": {},
     "output_type": "execute_result"
    }
   ],
   "source": [
    "meta_sites_df = merged_df.loc[:,['Drug Regimen', 'Timepoint', 'Metastatic Sites']]\n",
    "meta_sites_df.head()"
   ]
  },
  {
   "cell_type": "code",
   "execution_count": 98,
   "id": "61f17200",
   "metadata": {},
   "outputs": [
    {
     "data": {
      "text/html": [
       "<div>\n",
       "<style scoped>\n",
       "    .dataframe tbody tr th:only-of-type {\n",
       "        vertical-align: middle;\n",
       "    }\n",
       "\n",
       "    .dataframe tbody tr th {\n",
       "        vertical-align: top;\n",
       "    }\n",
       "\n",
       "    .dataframe thead tr th {\n",
       "        text-align: left;\n",
       "    }\n",
       "\n",
       "    .dataframe thead tr:last-of-type th {\n",
       "        text-align: right;\n",
       "    }\n",
       "</style>\n",
       "<table border=\"1\" class=\"dataframe\">\n",
       "  <thead>\n",
       "    <tr>\n",
       "      <th></th>\n",
       "      <th></th>\n",
       "      <th colspan=\"2\" halign=\"left\">Metastatic Sites</th>\n",
       "    </tr>\n",
       "    <tr>\n",
       "      <th></th>\n",
       "      <th></th>\n",
       "      <th>mean</th>\n",
       "      <th>sem</th>\n",
       "    </tr>\n",
       "    <tr>\n",
       "      <th>Drug Regimen</th>\n",
       "      <th>Timepoint</th>\n",
       "      <th></th>\n",
       "      <th></th>\n",
       "    </tr>\n",
       "  </thead>\n",
       "  <tbody>\n",
       "    <tr>\n",
       "      <th rowspan=\"5\" valign=\"top\">Capomulin</th>\n",
       "      <th>0</th>\n",
       "      <td>0.000000</td>\n",
       "      <td>0.000000</td>\n",
       "    </tr>\n",
       "    <tr>\n",
       "      <th>5</th>\n",
       "      <td>0.160000</td>\n",
       "      <td>0.074833</td>\n",
       "    </tr>\n",
       "    <tr>\n",
       "      <th>10</th>\n",
       "      <td>0.320000</td>\n",
       "      <td>0.125433</td>\n",
       "    </tr>\n",
       "    <tr>\n",
       "      <th>15</th>\n",
       "      <td>0.375000</td>\n",
       "      <td>0.132048</td>\n",
       "    </tr>\n",
       "    <tr>\n",
       "      <th>20</th>\n",
       "      <td>0.652174</td>\n",
       "      <td>0.161621</td>\n",
       "    </tr>\n",
       "  </tbody>\n",
       "</table>\n",
       "</div>"
      ],
      "text/plain": [
       "                       Metastatic Sites          \n",
       "                                   mean       sem\n",
       "Drug Regimen Timepoint                           \n",
       "Capomulin    0                 0.000000  0.000000\n",
       "             5                 0.160000  0.074833\n",
       "             10                0.320000  0.125433\n",
       "             15                0.375000  0.132048\n",
       "             20                0.652174  0.161621"
      ]
     },
     "execution_count": 98,
     "metadata": {},
     "output_type": "execute_result"
    }
   ],
   "source": [
    "# Group meta_sites_df by 'Drug' and 'Timepoint'\n",
    "# Calculate mean and standard error of the mean (sem) for the 'Metastatic Sites'\n",
    "mean_sem_meta = meta_sites_df.groupby(['Drug Regimen', 'Timepoint']).agg({\"Metastatic Sites\" :[\"mean\", \"sem\"]})\n",
    "mean_sem_meta.head()"
   ]
  },
  {
   "cell_type": "code",
   "execution_count": 99,
   "id": "a4dac2d7",
   "metadata": {},
   "outputs": [],
   "source": [
    "# Create lists of the metastatic sites means for each of the four drugs being compared\n",
    "cap_mtmean_list = mean_sem_meta.loc['Capomulin'].loc[:, 'Metastatic Sites'].loc[:,'mean'].tolist()\n",
    "inf_mtmean_list = mean_sem_meta.loc['Infubinol'].loc[:, 'Metastatic Sites'].loc[:,'mean'].tolist()\n",
    "ram_mtmean_list = mean_sem_meta.loc['Ramicane'].loc[:, 'Metastatic Sites'].loc[:,'mean'].tolist()\n",
    "cef_mtmean_list = mean_sem_meta.loc['Ceftamin'].loc[:, 'Metastatic Sites'].loc[:,'mean'].tolist()"
   ]
  },
  {
   "cell_type": "code",
   "execution_count": 100,
   "id": "e1367e80",
   "metadata": {},
   "outputs": [],
   "source": [
    "# Create lists of the metastatic sites sems for each of the four drugs being compared\n",
    "cap_mtsem_list = mean_sem_meta.loc['Capomulin'].loc[:, 'Metastatic Sites'].loc[:,'sem'].tolist()\n",
    "inf_mtsem_list = mean_sem_meta.loc['Infubinol'].loc[:, 'Metastatic Sites'].loc[:,'sem'].tolist()\n",
    "ram_mtsem_list = mean_sem_meta.loc['Ramicane'].loc[:, 'Metastatic Sites'].loc[:,'sem'].tolist()\n",
    "cef_mtsem_list = mean_sem_meta.loc['Ceftamin'].loc[:, 'Metastatic Sites'].loc[:,'sem'].tolist()"
   ]
  },
  {
   "cell_type": "code",
   "execution_count": 101,
   "id": "de7489fc",
   "metadata": {},
   "outputs": [
    {
     "data": {
      "image/png": "[encoded data removed]",
      "text/plain": [
       "<Figure size 432x288 with 1 Axes>"
      ]
     },
     "metadata": {
      "needs_background": "light"
     },
     "output_type": "display_data"
    }
   ],
   "source": [
    "# Scatter plot showing metastatic spread over time for each treatment\n",
    "\n",
    "ax = plt.subplot(111)\n",
    "\n",
    "# Set the x axis from 0 to 45 in increments of 5\n",
    "x_axis = np.arange(0, 50, 5)\n",
    "\n",
    "# Set the plot title and axes titles\n",
    "plt.title(\"Metastatic Spread During Treatment\")\n",
    "plt.xlabel(\"Time (days)\")\n",
    "plt.ylabel(\"Met. Sites\")\n",
    "\n",
    "# Plot the 'mean' list vs. the established x axis with error \n",
    "ax.errorbar(x_axis, cap_mtmean_list, yerr=cap_mtsem_list, fmt=\"olive\",\n",
    "                   label=\"Capomulin\")\n",
    "ax.errorbar(x_axis, inf_mtmean_list, yerr=inf_mtsem_list, fmt=\"gray\",\n",
    "                   label=\"Infubinol\")\n",
    "ax.errorbar(x_axis, ket_mtmean_list, yerr=ket_mtsem_list, fmt=\"brown\",\n",
    "                   label=\"Ramicane\")\n",
    "ax.errorbar(x_axis, plc_mtmean_list, yerr=plc_mtsem_list, fmt=\"blue\",\n",
    "                   label=\"Ceftamin\")\n",
    "\n",
    "# Add the legend and gridlines\n",
    "ax.legend(loc=2)\n",
    "\n",
    "tick_locations = [value for value in x_axis]\n",
    "ax.set_xticks(tick_locations, minor=False)\n",
    "ax.grid('on', which='major', axis='both', linestyle='dotted', linewidth=0.5)\n",
    "\n",
    "plt.xlim(0, max(x_axis)+2)\n",
    "        \n",
    "# Show the resulting scatter plot\n",
    "plt.show()"
   ]
  },
  {
   "cell_type": "code",
   "execution_count": 102,
   "id": "c644a8e9",
   "metadata": {},
   "outputs": [
    {
     "data": {
      "text/plain": [
       "Drug Regimen  Timepoint\n",
       "Capomulin     0            25\n",
       "              5            25\n",
       "              10           25\n",
       "              15           24\n",
       "              20           23\n",
       "Name: Timepoint, dtype: int64"
      ]
     },
     "execution_count": 102,
     "metadata": {},
     "output_type": "execute_result"
    }
   ],
   "source": [
    "# Get the mouse survival rate over time grouped by 'Drug' and 'Timepoint\n",
    "mouse_count = merged_df.groupby(['Drug Regimen', 'Timepoint'])['Timepoint'].count()\n",
    "mouse_count.head()"
   ]
  },
  {
   "cell_type": "code",
   "execution_count": 103,
   "id": "afdf0c7c",
   "metadata": {},
   "outputs": [],
   "source": [
    "# Create lists of the mouse counts for each of the four drugs at the different timepoints\n",
    "cap_surv_list = mouse_count.loc['Capomulin'].tolist()\n",
    "inf_surv_list = mouse_count.loc['Infubinol'].tolist()\n",
    "ram_surv_list = mouse_count.loc['Ramicane'].tolist()\n",
    "cef_surv_list = mouse_count.loc['Ceftamin'].tolist()"
   ]
  },
  {
   "cell_type": "code",
   "execution_count": 104,
   "id": "10cc004f",
   "metadata": {},
   "outputs": [],
   "source": [
    "# List comprehension to get the mouse survival rate\n",
    "# Each value in the lists is divided by the first value of the respective list to get a percentage\n",
    "cap_survrate = [(x/cap_surv_list[0])*100 for x in cap_surv_list]\n",
    "inf_survrate = [(x/inf_surv_list[0])*100 for x in inf_surv_list]\n",
    "ram_survrate = [(x/ram_surv_list[0])*100 for x in ram_surv_list]\n",
    "cef_survrate = [(x/cef_surv_list[0])*100 for x in cef_surv_list]"
   ]
  },
  {
   "cell_type": "code",
   "execution_count": 105,
   "id": "de102c23",
   "metadata": {},
   "outputs": [
    {
     "data": {
      "image/png": "[encoded data removed]",
      "text/plain": [
       "<Figure size 432x288 with 1 Axes>"
      ]
     },
     "metadata": {
      "needs_background": "light"
     },
     "output_type": "display_data"
    }
   ],
   "source": [
    "# Scatter plot showing mouse survival rate over time for each treatment\n",
    "\n",
    "ax = plt.subplot(111)\n",
    "\n",
    "# Set the x axis from 0 to 45 in increments of 5\n",
    "x_axis = np.arange(0, 50, 5)\n",
    "\n",
    "# Set the plot title and axes titles\n",
    "plt.title(\"Survival During Treatment\")\n",
    "plt.xlabel(\"Time (days)\")\n",
    "plt.ylabel(\"Survival Rate (%)\")\n",
    "\n",
    "# Plot the 'mean' list vs. the established x axis with error \n",
    "ax.plot(x_axis, cap_survrate, color=\"olive\", label=\"Capomulin\")\n",
    "ax.plot(x_axis, inf_survrate, color=\"gray\", label=\"Infubinol\")\n",
    "ax.plot(x_axis, ram_survrate, color=\"brown\", label=\"ramicane\")\n",
    "ax.plot(x_axis, cef_survrate, color=\"blue\", label=\"ceftamin\")\n",
    "\n",
    "# Add the legend and gridlines\n",
    "ax.legend(loc=3)\n",
    "\n",
    "tick_locations = [value for value in x_axis]\n",
    "ax.set_xticks(tick_locations, minor=False)\n",
    "ax.grid('on', which='major', axis='both', linestyle='dotted', linewidth=0.5)\n",
    "\n",
    "plt.xlim(0, max(x_axis))\n",
    "        \n",
    "# Show the resulting scatter plot\n",
    "plt.show()"
   ]
  },
  {
   "cell_type": "code",
   "execution_count": 106,
   "id": "be25ea36",
   "metadata": {},
   "outputs": [],
   "source": [
    "# Calculate the correlation coefficient and linear regression model\n",
    "cap_tv_change = int(((cap_tvmean_list[-1] - cap_tvmean_list[0])/cap_tvmean_list[0])*100)\n",
    "inf_tv_change = int(((inf_tvmean_list[-1] - inf_tvmean_list[0])/inf_tvmean_list[0])*100)\n",
    "ram_tv_change = int(((ram_tvmean_list[-1] - ram_tvmean_list[0])/ram_tvmean_list[0])*100)\n",
    "cef_tv_change = int(((cef_tvmean_list[-1] - cef_tvmean_list[0])/cef_tvmean_list[0])*100)"
   ]
  },
  {
   "cell_type": "code",
   "execution_count": 108,
   "id": "dc51c083",
   "metadata": {},
   "outputs": [
    {
     "data": {
      "image/png": "[encoded data removed]",
      "text/plain": [
       "<Figure size 432x288 with 1 Axes>"
      ]
     },
     "metadata": {
      "needs_background": "light"
     },
     "output_type": "display_data"
    }
   ],
   "source": [
    "#for mouse weight and average tumor volume for the Capomulin regimen\n",
    "\n",
    "# y values using a list\n",
    "y = [cap_tv_change, inf_tv_change, ram_tv_change, cef_tv_change]\n",
    "# Set the x axis from 0 to 45 in increments of 5\n",
    "x_axis = np.arange(len(y))\n",
    "\n",
    "# Set the colors of the bars depending on if pos or neg\n",
    "# Neg % are green\n",
    "# Pos % are red\n",
    "colors = []\n",
    "for item in y:\n",
    "    if item < 0:\n",
    "        colors.append('green')\n",
    "    else:\n",
    "        colors.append('red')\n",
    "\n",
    "# Set up the bar graph \n",
    "tumor_growth_bar = plt.bar(x_axis, y, color=colors, alpha=1.0, edgecolor='black', linewidth=0.7)\n",
    "\n",
    "# Set the plot title and axes titles\n",
    "plt.title(\"average tumor volume for the Capomulin regimen\")\n",
    "plt.ylabel(\"% Tumor Volume Change\")\n",
    "\n",
    "# plt.xticks() set the location and labels of the ticks on the x axis\n",
    "tick_locations = [value for value in x_axis]\n",
    "plt.xticks(tick_locations, [\"Capomulin\", \"Infubinol\", \"ramicane\", \"cerftamine\"])\n",
    "\n",
    "# Set the limit of the x and y axes. lim(start, end)\n",
    "plt.xlim(-1, len(x_axis))\n",
    "plt.ylim(min(y)-2, max(y)+2)\n",
    "\n",
    "# Plot horizontal line at y=0\n",
    "plt.hlines(0, -1, len(x_axis), alpha=1.0, linewidth=0.5)\n",
    "\n",
    "# Add gridlines\n",
    "plt.grid('on', which='major', axis='y', linestyle='dotted', linewidth=0.5)\n",
    "\n",
    "# Set up labels with the percentage change for each bar\n",
    "def autolabel(rects):\n",
    "    for i,rect in enumerate(rects):\n",
    "        height = int(y[i])\n",
    "        if height >= 0:\n",
    "            plt.text(rect.get_x()+rect.get_width()/2., 2, '%s%%'% (y[i]),\n",
    "                ha='center', va='bottom', color='white', weight='bold')\n",
    "        else:\n",
    "            plt.text(rect.get_x()+rect.get_width()/2., -2, '%s%%'% (y[i]),\n",
    "                ha='center', va='top', color='white', weight='bold')          \n",
    "\n",
    "autolabel(tumor_growth_bar)\n",
    "\n",
    "# Show the resulting scatter plot\n",
    "plt.show()"
   ]
  },
  {
   "cell_type": "code",
   "execution_count": null,
   "id": "2420c2c2",
   "metadata": {},
   "outputs": [],
   "source": []
  }
 ],
 "metadata": {
  "interpreter": {
   "hash": "03e39f1ebd3f6c73b7cbddb4215669feac73e1614f950e94d33f591d445c5492"
  },
  "kernelspec": {
   "display_name": "Python 3.9.7 ('base')",
   "language": "python",
   "name": "python3"
  },
  "language_info": {
   "codemirror_mode": {
    "name": "ipython",
    "version": 3
   },
   "file_extension": ".py",
   "mimetype": "text/x-python",
   "name": "python",
   "nbconvert_exporter": "python",
   "pygments_lexer": "ipython3",
   "version": "3.9.7"
  }
 },
 "nbformat": 4,
 "nbformat_minor": 5
}
